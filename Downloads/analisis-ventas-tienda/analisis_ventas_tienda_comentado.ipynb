{
 "cells": [
  {
   "cell_type": "markdown",
   "id": "b6a6da17",
   "metadata": {},
   "source": [
    "# 📊 Análisis de Ventas de una Tienda Ficticia\n",
    "Este notebook documenta paso a paso el análisis de un conjunto de datos simulados de ventas. Está diseñado como guía de estudio para practicar Python, pandas y visualización de datos en Jupyter Notebook."
   ]
  },
  {
   "cell_type": "markdown",
   "id": "4b89d596",
   "metadata": {},
   "source": [
    "## 🧰 Paso 1: Importar librerías necesarias"
   ]
  },
  {
   "cell_type": "code",
   "execution_count": null,
   "id": "5a0f7854",
   "metadata": {},
   "outputs": [],
   "source": [
    "# Importamos las librerías principales para análisis y gráficos\n",
    "import pandas as pd\n",
    "import matplotlib.pyplot as plt\n",
    "import seaborn as sns\n",
    "import numpy as np\n",
    "\n",
    "# Estilo visual para gráficos\n",
    "sns.set(style='whitegrid')"
   ]
  },
  {
   "cell_type": "markdown",
   "id": "fc462220",
   "metadata": {},
   "source": [
    "## 📥 Paso 2: Cargar y visualizar los datos"
   ]
  },
  {
   "cell_type": "code",
   "execution_count": null,
   "id": "f2c8feb6",
   "metadata": {},
   "outputs": [],
   "source": [
    "# Leemos el archivo CSV generado previamente\n",
    "df = pd.read_csv('ventas_tienda.csv')\n",
    "\n",
    "# Convertimos la columna 'fecha' al tipo datetime para análisis temporal\n",
    "df['fecha'] = pd.to_datetime(df['fecha'])\n",
    "\n",
    "# Visualizamos las primeras filas\n",
    "df.head()"
   ]
  },
  {
   "cell_type": "markdown",
   "id": "4fc62677",
   "metadata": {},
   "source": [
    "## 🧠 Paso 3: Crear nuevas columnas útiles para el análisis"
   ]
  },
  {
   "cell_type": "code",
   "execution_count": null,
   "id": "49b2726b",
   "metadata": {},
   "outputs": [],
   "source": [
    "# Extraemos mes, día de la semana y hora a partir de la fecha\n",
    "df['mes'] = df['fecha'].dt.to_period('M')\n",
    "df['dia_semana'] = df['fecha'].dt.day_name()\n",
    "df['hora'] = df['fecha'].dt.hour\n",
    "\n",
    "# Comprobamos los tipos de datos\n",
    "df.info()"
   ]
  },
  {
   "cell_type": "markdown",
   "id": "8918bbb2",
   "metadata": {},
   "source": [
    "## 📦 Paso 4: Análisis de ventas por categoría"
   ]
  },
  {
   "cell_type": "code",
   "execution_count": null,
   "id": "d93624bf",
   "metadata": {},
   "outputs": [],
   "source": [
    "# Agrupamos por categoría y sumamos el total de ventas\n",
    "ventas_categoria = df.groupby('categoria')['total'].sum().sort_values(ascending=False)\n",
    "\n",
    "# Gráfica de barras\n",
    "ventas_categoria.plot(kind='bar', color='skyblue', figsize=(8, 5), title='Ventas por Categoría')\n",
    "plt.ylabel('Total ($)')\n",
    "plt.xticks(rotation=45)\n",
    "plt.tight_layout()\n",
    "plt.show()"
   ]
  },
  {
   "cell_type": "markdown",
   "id": "8f21c9fa",
   "metadata": {},
   "source": [
    "## 🛒 Paso 5: Productos más vendidos (por unidades)"
   ]
  },
  {
   "cell_type": "code",
   "execution_count": null,
   "id": "e2b07929",
   "metadata": {},
   "outputs": [],
   "source": [
    "# Agrupamos por producto y sumamos la cantidad vendida\n",
    "productos_mas_vendidos = df.groupby('producto')['cantidad'].sum().sort_values(ascending=False)\n",
    "\n",
    "# Gráfica de barras\n",
    "productos_mas_vendidos.plot(kind='bar', color='orange', figsize=(8, 5), title='Productos más Vendidos')\n",
    "plt.ylabel('Cantidad')\n",
    "plt.xticks(rotation=45)\n",
    "plt.tight_layout()\n",
    "plt.show()"
   ]
  },
  {
   "cell_type": "markdown",
   "id": "83841151",
   "metadata": {},
   "source": [
    "## 📈 Paso 6: Evolución mensual de ventas"
   ]
  },
  {
   "cell_type": "code",
   "execution_count": null,
   "id": "e7856922",
   "metadata": {},
   "outputs": [],
   "source": [
    "# Agrupamos por mes y sumamos las ventas\n",
    "ventas_mensuales = df.groupby('mes')['total'].sum()\n",
    "\n",
    "# Gráfica de línea\n",
    "ventas_mensuales.plot(kind='line', marker='o', figsize=(10, 5), title='Ventas Mensuales')\n",
    "plt.ylabel('Total ($)')\n",
    "plt.xlabel('Mes')\n",
    "plt.grid(True)\n",
    "plt.tight_layout()\n",
    "plt.show()"
   ]
  },
  {
   "cell_type": "markdown",
   "id": "f4eb6856",
   "metadata": {},
   "source": [
    "## 🔥 Paso 7: Análisis de ventas por día de la semana y hora"
   ]
  },
  {
   "cell_type": "code",
   "execution_count": null,
   "id": "5edbe36c",
   "metadata": {},
   "outputs": [],
   "source": [
    "# Creamos tabla cruzada con conteo de ventas por día y hora\n",
    "heatmap_data = df.groupby(['dia_semana', 'hora'])['id_venta'].count().unstack().fillna(0)\n",
    "\n",
    "# Aseguramos el orden correcto de los días\n",
    "orden_dias = ['Monday', 'Tuesday', 'Wednesday', 'Thursday', 'Friday', 'Saturday', 'Sunday']\n",
    "heatmap_data = heatmap_data.reindex(orden_dias)\n",
    "\n",
    "# Dibujamos el heatmap\n",
    "import seaborn as sns\n",
    "import matplotlib.pyplot as plt\n",
    "\n",
    "plt.figure(figsize=(12, 6))\n",
    "sns.heatmap(heatmap_data, cmap='YlGnBu')\n",
    "plt.title('Actividad de Ventas por Día y Hora')\n",
    "plt.xlabel('Hora del día')\n",
    "plt.ylabel('Día de la semana')\n",
    "plt.tight_layout()\n",
    "plt.show()"
   ]
  }
 ],
 "metadata": {},
 "nbformat": 4,
 "nbformat_minor": 5
}